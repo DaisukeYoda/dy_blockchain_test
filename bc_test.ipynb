{
 "cells": [
  {
   "cell_type": "code",
   "execution_count": 8,
   "metadata": {},
   "outputs": [],
   "source": [
    "from blockchain import BlockChainTest"
   ]
  },
  {
   "cell_type": "code",
   "execution_count": 2,
   "metadata": {},
   "outputs": [],
   "source": [
    "bct = BlockChainTest(difficulty=5)"
   ]
  },
  {
   "cell_type": "code",
   "execution_count": 3,
   "metadata": {},
   "outputs": [],
   "source": [
    "adress1 = 'abc1'\n",
    "adress2 = 'abc2'"
   ]
  },
  {
   "cell_type": "code",
   "execution_count": 4,
   "metadata": {},
   "outputs": [
    {
     "data": {
      "text/plain": [
       "True"
      ]
     },
     "execution_count": 4,
     "metadata": {},
     "output_type": "execute_result"
    }
   ],
   "source": [
    "bct.execute_mining(sender_adress=adress1,receiver_adress=adress2,amount=5)"
   ]
  },
  {
   "cell_type": "code",
   "execution_count": 5,
   "metadata": {},
   "outputs": [
    {
     "data": {
      "text/plain": [
       "True"
      ]
     },
     "execution_count": 5,
     "metadata": {},
     "output_type": "execute_result"
    }
   ],
   "source": [
    "bct.execute_mining(sender_adress=adress2,receiver_adress=adress1,amount=3)"
   ]
  },
  {
   "cell_type": "code",
   "execution_count": 6,
   "metadata": {},
   "outputs": [
    {
     "data": {
      "text/plain": [
       "True"
      ]
     },
     "execution_count": 6,
     "metadata": {},
     "output_type": "execute_result"
    }
   ],
   "source": [
    "bct.execute_mining(sender_adress=adress1,receiver_adress=adress2,amount=1)"
   ]
  },
  {
   "cell_type": "code",
   "execution_count": 7,
   "metadata": {},
   "outputs": [
    {
     "data": {
      "text/plain": [
       "[{'timestamp': 1651583080.545653,\n",
       "  'transactions': [],\n",
       "  'nonce': 0,\n",
       "  'prev_hash': ''},\n",
       " {'timestamp': 1651583088.844715,\n",
       "  'transactions': [{'sender_adress': 'abc1',\n",
       "    'receiver_adress': 'abc2',\n",
       "    'amount': 5}],\n",
       "  'nonce': 2098011,\n",
       "  'prev_hash': '62bf602f9832dc5ec4757c7449c7a5077501e5590e9646d0028205ef4d2b6dd0'},\n",
       " {'timestamp': 1651583102.060116,\n",
       "  'transactions': [{'sender_adress': 'abc2',\n",
       "    'receiver_adress': 'abc1',\n",
       "    'amount': 3}],\n",
       "  'nonce': 3403623,\n",
       "  'prev_hash': 'cc162f1fca87b1ef64e1fbe07772d610c7d10e6b7058cf1df6c3c3627b141674'},\n",
       " {'timestamp': 1651583102.3151,\n",
       "  'transactions': [{'sender_adress': 'abc1',\n",
       "    'receiver_adress': 'abc2',\n",
       "    'amount': 1}],\n",
       "  'nonce': 72531,\n",
       "  'prev_hash': 'cef316a68261cceec7d7599b956da39d97af77ba8a5e49972abfbbb78003f166'}]"
      ]
     },
     "execution_count": 7,
     "metadata": {},
     "output_type": "execute_result"
    }
   ],
   "source": [
    "bct.chain"
   ]
  },
  {
   "cell_type": "code",
   "execution_count": null,
   "metadata": {},
   "outputs": [],
   "source": []
  },
  {
   "cell_type": "code",
   "execution_count": null,
   "metadata": {},
   "outputs": [],
   "source": []
  }
 ],
 "metadata": {
  "interpreter": {
   "hash": "05ffa1b26a22a4c2f2f24e9327985b8f74f6281d139d0d2222818701b0263570"
  },
  "kernelspec": {
   "display_name": "Python 3.9.10 ('algomain')",
   "language": "python",
   "name": "python3"
  },
  "language_info": {
   "codemirror_mode": {
    "name": "ipython",
    "version": 3
   },
   "file_extension": ".py",
   "mimetype": "text/x-python",
   "name": "python",
   "nbconvert_exporter": "python",
   "pygments_lexer": "ipython3",
   "version": "3.9.10"
  },
  "orig_nbformat": 4
 },
 "nbformat": 4,
 "nbformat_minor": 2
}
