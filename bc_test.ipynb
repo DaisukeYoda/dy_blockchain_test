{
 "cells": [
  {
   "cell_type": "code",
   "execution_count": 1,
   "metadata": {},
   "outputs": [],
   "source": [
    "from blockchain import BlockChainTest"
   ]
  },
  {
   "cell_type": "code",
   "execution_count": 2,
   "metadata": {},
   "outputs": [],
   "source": [
    "bct = BlockChainTest(difficulty=2)"
   ]
  },
  {
   "cell_type": "code",
   "execution_count": 3,
   "metadata": {},
   "outputs": [],
   "source": [
    "adress1 = 'abc1'\n",
    "adress2 = 'abc2'"
   ]
  },
  {
   "cell_type": "code",
   "execution_count": 4,
   "metadata": {},
   "outputs": [
    {
     "data": {
      "text/plain": [
       "True"
      ]
     },
     "execution_count": 4,
     "metadata": {},
     "output_type": "execute_result"
    }
   ],
   "source": [
    "bct.execute_mining(sender_adress=adress1,receiver_adress=adress2,amount=5)"
   ]
  },
  {
   "cell_type": "code",
   "execution_count": 5,
   "metadata": {},
   "outputs": [
    {
     "data": {
      "text/plain": [
       "True"
      ]
     },
     "execution_count": 5,
     "metadata": {},
     "output_type": "execute_result"
    }
   ],
   "source": [
    "bct.execute_mining(sender_adress=adress2,receiver_adress=adress1,amount=3)"
   ]
  },
  {
   "cell_type": "code",
   "execution_count": 6,
   "metadata": {},
   "outputs": [
    {
     "data": {
      "text/plain": [
       "[{'timestamp': 1648904307.763202,\n",
       "  'transactions': [],\n",
       "  'nonce': 0,\n",
       "  'prev_hash': ''},\n",
       " {'timestamp': 1648904307.820395,\n",
       "  'transactions': [{'sender_adress': 'abc1',\n",
       "    'receiver_adress': 'abc2',\n",
       "    'amount': 5}],\n",
       "  'nonce': 17,\n",
       "  'prev_hash': 'a0b13b273d37f8fcd32d8d6fbc0bc505699282ac156071c7c62774c5b0353a6a'},\n",
       " {'timestamp': 1648904307.852902,\n",
       "  'transactions': [{'sender_adress': 'abc2',\n",
       "    'receiver_adress': 'abc1',\n",
       "    'amount': 3}],\n",
       "  'nonce': 449,\n",
       "  'prev_hash': '8277068af59e706ffcab719b63a7c6f16afbc8ec8573aee27c4fe9e3c770623a'}]"
      ]
     },
     "execution_count": 6,
     "metadata": {},
     "output_type": "execute_result"
    }
   ],
   "source": [
    "bct.chain"
   ]
  },
  {
   "cell_type": "code",
   "execution_count": null,
   "metadata": {},
   "outputs": [],
   "source": []
  },
  {
   "cell_type": "code",
   "execution_count": null,
   "metadata": {},
   "outputs": [],
   "source": []
  },
  {
   "cell_type": "code",
   "execution_count": null,
   "metadata": {},
   "outputs": [],
   "source": []
  }
 ],
 "metadata": {
  "interpreter": {
   "hash": "05ffa1b26a22a4c2f2f24e9327985b8f74f6281d139d0d2222818701b0263570"
  },
  "kernelspec": {
   "display_name": "Python 3.9.10 ('algomain')",
   "language": "python",
   "name": "python3"
  },
  "language_info": {
   "codemirror_mode": {
    "name": "ipython",
    "version": 3
   },
   "file_extension": ".py",
   "mimetype": "text/x-python",
   "name": "python",
   "nbconvert_exporter": "python",
   "pygments_lexer": "ipython3",
   "version": "3.9.10"
  },
  "orig_nbformat": 4
 },
 "nbformat": 4,
 "nbformat_minor": 2
}
